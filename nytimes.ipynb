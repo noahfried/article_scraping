{
 "cells": [
  {
   "cell_type": "code",
   "execution_count": 6,
   "metadata": {},
   "outputs": [],
   "source": [
    "import requests as req\n",
    "import time\n",
    "import pandas as pd\n",
    "API_KEY = 'oYySCfJW6ZaGdquX7XVPT15kvthEs8od'"
   ]
  },
  {
   "cell_type": "code",
   "execution_count": 3,
   "metadata": {},
   "outputs": [],
   "source": [
    "filter_query = 'Congestion Pricing & glocations:(\"NEW YORK CITY\")'"
   ]
  },
  {
   "cell_type": "code",
   "execution_count": 7,
   "metadata": {},
   "outputs": [],
   "source": [
    "articles = []\n",
    "for i in range(20):\n",
    "    url = f'https://api.nytimes.com/svc/search/v2/articlesearch.json?q={filter_query}&api-key={API_KEY}&page={i}'\n",
    "    response = req.get(url).json()\n",
    "    time.sleep(12)  # To respect API rate limits\n",
    "\n",
    "    docs = response['response']['docs']\n",
    "    for doc in docs:\n",
    "        # Create a new dictionary for each article\n",
    "        filteredDoc = {\n",
    "            'title': doc.get('headline', {}).get('main', 'No title'),\n",
    "            'abstract': doc.get('abstract', 'No abstract'),\n",
    "            'paragraph': doc.get('lead_paragraph', 'No lead paragraph'),\n",
    "            'url': doc.get('web_url', 'No URL'),\n",
    "            'pub_date': doc.get('pub_date', 'No publication date'),\n",
    "            'news_desk': doc.get('news_desk', 'No news desk') \n",
    "        }\n",
    "        articles.append(filteredDoc)  # Append to the articles list\n",
    "\n"
   ]
  },
  {
   "cell_type": "code",
   "execution_count": 8,
   "metadata": {},
   "outputs": [
    {
     "data": {
      "text/plain": [
       "200"
      ]
     },
     "execution_count": 8,
     "metadata": {},
     "output_type": "execute_result"
    }
   ],
   "source": [
    "len(articles)"
   ]
  },
  {
   "cell_type": "code",
   "execution_count": 9,
   "metadata": {},
   "outputs": [],
   "source": [
    "df = pd.DataFrame(data=articles)\n",
    "df.to_csv('nyt_articles.csv')"
   ]
  }
 ],
 "metadata": {
  "kernelspec": {
   "display_name": ".venv",
   "language": "python",
   "name": "python3"
  },
  "language_info": {
   "codemirror_mode": {
    "name": "ipython",
    "version": 3
   },
   "file_extension": ".py",
   "mimetype": "text/x-python",
   "name": "python",
   "nbconvert_exporter": "python",
   "pygments_lexer": "ipython3",
   "version": "3.13.1"
  }
 },
 "nbformat": 4,
 "nbformat_minor": 2
}
